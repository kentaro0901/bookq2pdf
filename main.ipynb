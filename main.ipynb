{
 "cells": [
  {
   "cell_type": "code",
   "execution_count": null,
   "metadata": {},
   "outputs": [],
   "source": [
    "import bookq2pdf\n",
    "\n",
    "bookq = bookq2pdf.Bookq()\n",
    "bookq.login(secrets_file='secrets.json')\n",
    "bookq.get_pdf(book_url='https://bookq.s.kyushu-u.ac.jp/book/view?contents=1ef4286a3954b43450c7c7f96098afb8bb84e69568d31f6921b7dc096d2229b9', page_num=10)"
   ]
  }
 ],
 "metadata": {
  "interpreter": {
   "hash": "01c1cefed0550c79a29fba90c54ae81dac69522dafa1a36afb5a68ec6c0cf5be"
  },
  "kernelspec": {
   "display_name": "Python 3.8.5 64-bit",
   "language": "python",
   "name": "python3"
  },
  "language_info": {
   "codemirror_mode": {
    "name": "ipython",
    "version": 3
   },
   "file_extension": ".py",
   "mimetype": "text/x-python",
   "name": "python",
   "nbconvert_exporter": "python",
   "pygments_lexer": "ipython3",
   "version": "3.9.9"
  },
  "metadata": {
   "interpreter": {
    "hash": "aee8b7b246df8f9039afb4144a1f6fd8d2ca17a180786b69acc140d282b71a49"
   }
  },
  "orig_nbformat": 2
 },
 "nbformat": 4,
 "nbformat_minor": 2
}
