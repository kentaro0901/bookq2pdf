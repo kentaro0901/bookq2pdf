{
 "metadata": {
  "language_info": {
   "codemirror_mode": {
    "name": "ipython",
    "version": 3
   },
   "file_extension": ".py",
   "mimetype": "text/x-python",
   "name": "python",
   "nbconvert_exporter": "python",
   "pygments_lexer": "ipython3",
   "version": "3.8.5"
  },
  "orig_nbformat": 2,
  "kernelspec": {
   "name": "python385jvsc74a57bd0aee8b7b246df8f9039afb4144a1f6fd8d2ca17a180786b69acc140d282b71a49",
   "display_name": "Python 3.8.5 64-bit"
  },
  "metadata": {
   "interpreter": {
    "hash": "aee8b7b246df8f9039afb4144a1f6fd8d2ca17a180786b69acc140d282b71a49"
   }
  }
 },
 "nbformat": 4,
 "nbformat_minor": 2,
 "cells": [
  {
   "cell_type": "code",
   "execution_count": 1,
   "metadata": {},
   "outputs": [
    {
     "output_type": "stream",
     "name": "stderr",
     "text": [
      "100%|██████████| 10/10 [00:11<00:00,  1.18s/it]\n",
      "\"output.pdf\" is generated.\n",
      "\n"
     ]
    }
   ],
   "source": [
    "import bookq2pdf\n",
    "\n",
    "bookq = bookq2pdf.Bookq()\n",
    "bookq.login()\n",
    "bookq.get_pdf(book_url='https://bookq.s.kyushu-u.ac.jp/book/view?contents=1ef4286a3954b43450c7c7f96098afb8bb84e69568d31f6921b7dc096d2229b9', page_num=10)"
   ]
  }
 ]
}